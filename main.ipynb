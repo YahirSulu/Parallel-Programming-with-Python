{
 "cells": [
  {
   "cell_type": "markdown",
   "metadata": {},
   "source": [
    "# Parallel Programming with Python\n",
    "Sulu Chi Yahir Benjamin\\\n",
    "Universidad Politécnica de Yucatán\\\n",
    "2109145@upy.edu.mx \n",
    "\n",
    "## Instructions:\n",
    "Compute via numerical integration. We use the fact that 𝜋is the área of the unit circle, and we approximate this by computing the área of a quarter circle using Riemann sums:\n",
    "\n",
    "![instructions.jpg](<instructions.jpg>)\n",
    "\n",
    "Write a program which uses the previous strategy to obtain 𝜋 via numericla integration:\n"
   ]
  },
  {
   "cell_type": "markdown",
   "metadata": {},
   "source": [
    "# 1. Write a program in Python nwhich solves the program without any parallelization."
   ]
  },
  {
   "cell_type": "code",
   "execution_count": 20,
   "metadata": {},
   "outputs": [
    {
     "name": "stdout",
     "output_type": "stream",
     "text": [
      "Requirement already satisfied: numpy in c:\\users\\yahir\\appdata\\local\\packages\\pythonsoftwarefoundation.python.3.10_qbz5n2kfra8p0\\localcache\\local-packages\\python310\\site-packages (1.26.4)\n"
     ]
    },
    {
     "name": "stderr",
     "output_type": "stream",
     "text": [
      "\n",
      "[notice] A new release of pip is available: 23.0.1 -> 24.0\n",
      "[notice] To update, run: C:\\Users\\yahir\\AppData\\Local\\Microsoft\\WindowsApps\\PythonSoftwareFoundation.Python.3.10_qbz5n2kfra8p0\\python.exe -m pip install --upgrade pip\n"
     ]
    }
   ],
   "source": [
    "!pip install numpy"
   ]
  },
  {
   "cell_type": "code",
   "execution_count": 4,
   "metadata": {},
   "outputs": [
    {
     "name": "stdout",
     "output_type": "stream",
     "text": [
      "Sequential π approximation: 3.141594652413976\n",
      "Time taken: 1.6183 seconds\n"
     ]
    }
   ],
   "source": [
    "import numpy as np\n",
    "import time\n",
    "\n",
    "def compute_pi_sequential(N):\n",
    "    dx = 1.0 / N\n",
    "    total = sum(np.sqrt(1 - (i * dx) ** 2) for i in range(N))\n",
    "    return 4 * total * dx\n",
    "\n",
    "N = 1000000\n",
    "start_time = time.time()  # Start timing\n",
    "pi_approx_sequential = compute_pi_sequential(N)\n",
    "end_time = time.time()  # End timing\n",
    "\n",
    "print(f\"Sequential π approximation: {pi_approx_sequential}\")\n",
    "print(f\"Time taken: {end_time - start_time:.4f} seconds\")"
   ]
  },
  {
   "cell_type": "markdown",
   "metadata": {},
   "source": [
    "# 2. Write a program in Python which usesparallel computing via multiprocessingto solve the problem."
   ]
  },
  {
   "cell_type": "code",
   "execution_count": 1,
   "metadata": {},
   "outputs": [
    {
     "name": "stdout",
     "output_type": "stream",
     "text": [
      "N = 10000: Multiprocessing π approximation = 3.141791, Time taken = 1.06 seconds\n",
      "N = 100000: Multiprocessing π approximation = 3.141613, Time taken = 2.01 seconds\n",
      "N = 1000000: Multiprocessing π approximation = 3.141595, Time taken = 6.67 seconds\n"
     ]
    }
   ],
   "source": [
    "%run multiprocess.py"
   ]
  },
  {
   "cell_type": "markdown",
   "metadata": {},
   "source": [
    "# 3. Write a program in Python which uses distributed parallel computing via mi4pyto solve the problem."
   ]
  },
  {
   "cell_type": "code",
   "execution_count": 2,
   "metadata": {},
   "outputs": [
    {
     "name": "stdout",
     "output_type": "stream",
     "text": [
      "Collecting mpi4py\n",
      "  Downloading mpi4py-3.1.6-cp310-cp310-win_amd64.whl (472 kB)\n",
      "     -------------------------------------- 472.2/472.2 kB 2.3 MB/s eta 0:00:00\n",
      "Installing collected packages: mpi4py\n",
      "Successfully installed mpi4py-3.1.6\n"
     ]
    },
    {
     "name": "stderr",
     "output_type": "stream",
     "text": [
      "\n",
      "[notice] A new release of pip is available: 23.0.1 -> 24.0\n",
      "[notice] To update, run: C:\\Users\\yahir\\AppData\\Local\\Microsoft\\WindowsApps\\PythonSoftwareFoundation.Python.3.10_qbz5n2kfra8p0\\python.exe -m pip install --upgrade pip\n"
     ]
    }
   ],
   "source": [
    "!pip install mpi4py"
   ]
  },
  {
   "cell_type": "code",
   "execution_count": 4,
   "metadata": {},
   "outputs": [],
   "source": [
    "from mpi4py import MPI\n",
    "import numpy as np\n",
    "import time"
   ]
  },
  {
   "cell_type": "code",
   "execution_count": 8,
   "metadata": {},
   "outputs": [
    {
     "name": "stdout",
     "output_type": "stream",
     "text": [
      "Pi with MPI: 3.141592844031421\n",
      "Time taken (root process): 0.4444 seconds\n"
     ]
    }
   ],
   "source": [
    "def compute_pi(N):\n",
    "    # Initialize MPI environment\n",
    "    comm = MPI.COMM_WORLD\n",
    "    rank = comm.Get_rank()\n",
    "    size = comm.Get_size()\n",
    "\n",
    "    # Compute number of intervals handled by each process\n",
    "    local_n = N // size + (rank < N % size)\n",
    "    start = rank * local_n\n",
    "    end = start + local_n\n",
    "\n",
    "    start_time = time.time()  # Start timing on each process\n",
    "\n",
    "    # Calculate local integral\n",
    "    x = np.linspace(start/N, end/N, local_n, endpoint=False)\n",
    "    local_sum = np.sum(np.sqrt(1 - x**2)) * (1.0 / N)\n",
    "\n",
    "    # Gather all local integrals to the root process\n",
    "    pi_approx = 4 * comm.reduce(local_sum, op=MPI.SUM, root=0)\n",
    "\n",
    "    end_time = time.time()  # End timing on each process\n",
    "\n",
    "    # Root process prints the result\n",
    "    if rank == 0:\n",
    "        print(\"Pi with MPI:\", pi_approx)\n",
    "        print(f\"Time taken (root process): {end_time - start_time:.4f} seconds\")\n",
    "\n",
    "if __name__ == \"__main__\":\n",
    "    N = 10_500_000\n",
    "    compute_pi(N)"
   ]
  }
 ],
 "metadata": {
  "kernelspec": {
   "display_name": "Python 3",
   "language": "python",
   "name": "python3"
  },
  "language_info": {
   "codemirror_mode": {
    "name": "ipython",
    "version": 3
   },
   "file_extension": ".py",
   "mimetype": "text/x-python",
   "name": "python",
   "nbconvert_exporter": "python",
   "pygments_lexer": "ipython3",
   "version": "3.10.11"
  }
 },
 "nbformat": 4,
 "nbformat_minor": 2
}
